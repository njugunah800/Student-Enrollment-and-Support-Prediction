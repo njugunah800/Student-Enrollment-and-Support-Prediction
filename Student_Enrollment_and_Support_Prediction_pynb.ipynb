{
  "nbformat": 4,
  "nbformat_minor": 0,
  "metadata": {
    "colab": {
      "provenance": [],
      "authorship_tag": "ABX9TyO/x9zhNDEP+G3Py4DpgXHd",
      "include_colab_link": true
    },
    "kernelspec": {
      "name": "python3",
      "display_name": "Python 3"
    },
    "language_info": {
      "name": "python"
    }
  },
  "cells": [
    {
      "cell_type": "markdown",
      "metadata": {
        "id": "view-in-github",
        "colab_type": "text"
      },
      "source": [
        "<a href=\"https://colab.research.google.com/github/njugunah800/Student-Enrollment-and-Support-Prediction/blob/main/Student_Enrollment_and_Support_Prediction_pynb.ipynb\" target=\"_parent\"><img src=\"https://colab.research.google.com/assets/colab-badge.svg\" alt=\"Open In Colab\"/></a>"
      ]
    },
    {
      "cell_type": "code",
      "source": [
        "!pip install faker\n"
      ],
      "metadata": {
        "colab": {
          "base_uri": "https://localhost:8080/"
        },
        "id": "cOKiNTor0Yzl",
        "outputId": "9a83db27-be4a-49c4-f2a5-24ad07c90d80"
      },
      "execution_count": null,
      "outputs": [
        {
          "output_type": "stream",
          "name": "stdout",
          "text": [
            "Collecting faker\n",
            "  Downloading Faker-20.0.3-py3-none-any.whl (1.7 MB)\n",
            "\u001b[2K     \u001b[90m━━━━━━━━━━━━━━━━━━━━━━━━━━━━━━━━━━━━━━━━\u001b[0m \u001b[32m1.7/1.7 MB\u001b[0m \u001b[31m12.0 MB/s\u001b[0m eta \u001b[36m0:00:00\u001b[0m\n",
            "\u001b[?25hRequirement already satisfied: python-dateutil>=2.4 in /usr/local/lib/python3.10/dist-packages (from faker) (2.8.2)\n",
            "Requirement already satisfied: six>=1.5 in /usr/local/lib/python3.10/dist-packages (from python-dateutil>=2.4->faker) (1.16.0)\n",
            "Installing collected packages: faker\n",
            "Successfully installed faker-20.0.3\n"
          ]
        }
      ]
    },
    {
      "cell_type": "code",
      "source": [
        "import pandas as pd\n",
        "import numpy as np\n",
        "from faker import Faker\n",
        "import random\n",
        "\n",
        "# Set a seed for reproducibility\n",
        "np.random.seed(42)\n",
        "random.seed(42)\n",
        "\n",
        "# Function to generate synthetic academic records data with high school results\n",
        "def generate_academic_records_data(starting_id=297, num_students=100):  # Change the starting ID and number of students here\n",
        "    fake = Faker()\n",
        "    data = []\n",
        "\n",
        "    for i in range(num_students):\n",
        "        student_id = starting_id + i\n",
        "\n",
        "        # Mandatory subjects\n",
        "        math_grade = round(random.uniform(60, 100), 2)\n",
        "        chem_grade = round(random.uniform(60, 100), 2)\n",
        "        eng_grade = round(random.uniform(60, 100), 2)\n",
        "        kisw_grade = round(random.uniform(60, 100), 2)\n",
        "\n",
        "        # Additional subjects\n",
        "        physics_grade = round(random.uniform(60, 100), 2)\n",
        "        bio_grade = round(random.uniform(60, 100), 2)\n",
        "        geo_grade = round(random.uniform(60, 100), 2)\n",
        "        history_grade = round(random.uniform(60, 100), 2)\n",
        "        cre_grade = round(random.uniform(60, 100), 2)\n",
        "        bs_grade = round(random.uniform(60, 100), 2)\n",
        "        agri_grade = round(random.uniform(60, 100), 2)\n",
        "\n",
        "        data.append([student_id, math_grade, chem_grade, eng_grade, kisw_grade,\n",
        "                     physics_grade, bio_grade, geo_grade, history_grade, cre_grade, bs_grade, agri_grade])\n",
        "\n",
        "    columns = ['Student_ID', 'Math', 'Chemistry', 'English', 'Kiswahili',\n",
        "               'Physics', 'Biology', 'Geography', 'History', 'CRE', 'B/S', 'Agri']\n",
        "    df = pd.DataFrame(data, columns=columns)\n",
        "    return df\n",
        "\n",
        "# Generate academic records data with high school results for 100 students\n",
        "academic_records_data = generate_academic_records_data(starting_id=297, num_students=100)\n",
        "academic_records_data.to_csv('academic_records_data.csv', index=False)\n"
      ],
      "metadata": {
        "id": "4gbTioof4HO0"
      },
      "execution_count": null,
      "outputs": []
    },
    {
      "cell_type": "code",
      "source": [
        "import pandas as pd\n",
        "import numpy as np\n",
        "from faker import Faker\n",
        "import random\n",
        "\n",
        "# Set a seed for reproducibility\n",
        "np.random.seed(42)\n",
        "random.seed(42)\n",
        "\n",
        "# Function to generate synthetic enrollment data\n",
        "def generate_enrollment_data(starting_id=297, num_students=100):  # Change the starting ID and number of students here\n",
        "    fake = Faker()\n",
        "    data = []\n",
        "\n",
        "    for i in range(num_students):\n",
        "        student_id = starting_id + i\n",
        "        enrollment_year = random.randint(2015, 2022)\n",
        "        program = random.choice(['Computer Science', 'Physics', 'Mathematics'])\n",
        "        data.append([student_id, enrollment_year, program])\n",
        "\n",
        "    columns = ['Student_ID', 'Enrollment_Year', 'Program']\n",
        "    df = pd.DataFrame(data, columns=columns)\n",
        "    return df\n",
        "\n",
        "# Generate enrollment data with modified student IDs\n",
        "enrollment_data = generate_enrollment_data(starting_id=297, num_students=100)\n",
        "enrollment_data.to_csv('enrollment_data.csv', index=False)\n"
      ],
      "metadata": {
        "id": "dwT0FWlG5R6V"
      },
      "execution_count": null,
      "outputs": []
    },
    {
      "cell_type": "code",
      "source": [
        "import pandas as pd\n",
        "import numpy as np\n",
        "from faker import Faker\n",
        "import random\n",
        "\n",
        "# Set a seed for reproducibility\n",
        "np.random.seed(42)\n",
        "random.seed(42)\n",
        "\n",
        "# Function to generate synthetic demographic data\n",
        "def generate_demographic_data(starting_id=297, num_students=100):  # Change the starting ID and number of students here\n",
        "    fake = Faker()\n",
        "    data = []\n",
        "\n",
        "    for i in range(num_students):\n",
        "        student_id = starting_id + i\n",
        "        age = random.randint(18, 25)\n",
        "        gender = random.choice(['Male', 'Female'])\n",
        "        ethnicity = random.choice(['Kikuyu', 'Meru', 'Kamba', 'Kisii', 'Kalenjin', 'Luo', 'Somali'])\n",
        "\n",
        "        data.append([student_id, age, gender, ethnicity])\n",
        "\n",
        "    columns = ['Student_ID', 'Age', 'Gender', 'Ethnicity']\n",
        "    df = pd.DataFrame(data, columns=columns)\n",
        "    return df\n",
        "\n",
        "# Generate demographic data with specified ethnicities, 100 students, and modified student IDs\n",
        "demographic_data = generate_demographic_data(starting_id=297, num_students=100)\n",
        "demographic_data.to_csv('demographic_data.csv', index=False)\n"
      ],
      "metadata": {
        "id": "iXGl_zjp6kUt"
      },
      "execution_count": null,
      "outputs": []
    },
    {
      "cell_type": "code",
      "source": [
        "import pandas as pd\n",
        "\n",
        "# Load datasets\n",
        "enrollment_data = pd.read_csv('enrollment_data.csv')\n",
        "academic_records_data = pd.read_csv('academic_records_data.csv')\n",
        "demographic_data = pd.read_csv('demographic_data.csv')\n",
        "\n",
        "# Merge datasets based on the common 'Student_ID' column\n",
        "merged_data = pd.merge(enrollment_data, academic_records_data, on='Student_ID')\n",
        "merged_data = pd.merge(merged_data, demographic_data, on='Student_ID')\n",
        "\n",
        "# Display the merged data\n",
        "print(merged_data.head())\n"
      ],
      "metadata": {
        "colab": {
          "base_uri": "https://localhost:8080/"
        },
        "id": "f2wYgGmp8Not",
        "outputId": "e9b61668-e6e0-4d30-a163-a8e3455ced32"
      },
      "execution_count": null,
      "outputs": [
        {
          "output_type": "stream",
          "name": "stdout",
          "text": [
            "   Student_ID  Enrollment_Year           Program   Math  Chemistry  English  \\\n",
            "0         297             2016  Computer Science  85.58      61.00    71.00   \n",
            "1         298             2019  Computer Science  80.21      61.06    67.95   \n",
            "2         299             2018  Computer Science  73.61      66.22    98.29   \n",
            "3         300             2016       Mathematics  98.92      75.14    82.08   \n",
            "4         301             2016       Mathematics  63.19      69.31    64.04   \n",
            "\n",
            "   Kiswahili  Physics  Biology  Geography  History    CRE    B/S   Agri  Age  \\\n",
            "0      68.93    89.46    87.07      95.69    63.48  76.88  61.19  68.75   19   \n",
            "1      86.00    81.80    68.82      83.57    92.38  60.26  92.23  87.93   22   \n",
            "2      73.46    63.71    63.87      93.90    84.15  92.29  89.19  81.45   20   \n",
            "3      93.18    84.74    94.47      83.09    88.18  61.83  69.12  71.58   19   \n",
            "4      71.12    85.43    74.59      74.81    68.38  70.68  97.47  85.92   18   \n",
            "\n",
            "   Gender Ethnicity  \n",
            "0    Male       Luo  \n",
            "1    Male      Meru  \n",
            "2    Male       Luo  \n",
            "3  Female    Kikuyu  \n",
            "4    Male      Meru  \n"
          ]
        }
      ]
    },
    {
      "cell_type": "code",
      "source": [
        "# Check column names in the merged data\n",
        "print(merged_data.columns)\n"
      ],
      "metadata": {
        "colab": {
          "base_uri": "https://localhost:8080/"
        },
        "id": "6Q8ZeXw2-V20",
        "outputId": "aff93c1e-68b9-4261-bd36-a331236e9541"
      },
      "execution_count": null,
      "outputs": [
        {
          "output_type": "stream",
          "name": "stdout",
          "text": [
            "Index(['Student_ID', 'Enrollment_Year', 'Program', 'Math', 'Chemistry',\n",
            "       'English', 'Kiswahili', 'Physics', 'Biology', 'Geography', 'History',\n",
            "       'CRE', 'B/S', 'Agri', 'Age', 'Gender', 'Ethnicity'],\n",
            "      dtype='object')\n"
          ]
        }
      ]
    },
    {
      "cell_type": "code",
      "source": [
        "# Print the first few rows of the merged data\n",
        "print(merged_data.head())\n"
      ],
      "metadata": {
        "colab": {
          "base_uri": "https://localhost:8080/"
        },
        "id": "zAGEoQnT-YOE",
        "outputId": "35c0251d-2059-41e0-c097-0273dd820c95"
      },
      "execution_count": null,
      "outputs": [
        {
          "output_type": "stream",
          "name": "stdout",
          "text": [
            "   Student_ID  Enrollment_Year  Program   Math  Chemistry  English  Kiswahili  \\\n",
            "0         297             2016        0  85.58      61.00    71.00      68.93   \n",
            "1         298             2019        0  80.21      61.06    67.95      86.00   \n",
            "2         299             2018        0  73.61      66.22    98.29      73.46   \n",
            "3         300             2016        1  98.92      75.14    82.08      93.18   \n",
            "4         301             2016        1  63.19      69.31    64.04      71.12   \n",
            "\n",
            "   Physics  Biology  Geography  History    CRE    B/S   Agri  Age  Gender  \\\n",
            "0    89.46    87.07      95.69    63.48  76.88  61.19  68.75   19       1   \n",
            "1    81.80    68.82      83.57    92.38  60.26  92.23  87.93   22       1   \n",
            "2    63.71    63.87      93.90    84.15  92.29  89.19  81.45   20       1   \n",
            "3    84.74    94.47      83.09    88.18  61.83  69.12  71.58   19       0   \n",
            "4    85.43    74.59      74.81    68.38  70.68  97.47  85.92   18       1   \n",
            "\n",
            "   Ethnicity  \n",
            "0          4  \n",
            "1          5  \n",
            "2          4  \n",
            "3          2  \n",
            "4          5  \n"
          ]
        }
      ]
    },
    {
      "cell_type": "code",
      "source": [
        "# Check column names in the merged data\n",
        "print(merged_data.columns)\n"
      ],
      "metadata": {
        "colab": {
          "base_uri": "https://localhost:8080/"
        },
        "id": "r3U1diYbBUQH",
        "outputId": "b39de586-20ba-447c-a979-6635a3011597"
      },
      "execution_count": null,
      "outputs": [
        {
          "output_type": "stream",
          "name": "stdout",
          "text": [
            "Index(['Student_ID', 'Enrollment_Year', 'Program', 'Math', 'Chemistry',\n",
            "       'English', 'Kiswahili', 'Physics', 'Biology', 'Geography', 'History',\n",
            "       'CRE', 'B/S', 'Agri', 'Age', 'Gender', 'Ethnicity'],\n",
            "      dtype='object')\n"
          ]
        }
      ]
    },
    {
      "cell_type": "code",
      "source": [
        "import pandas as pd\n",
        "from sklearn.model_selection import train_test_split\n",
        "from sklearn.preprocessing import LabelEncoder\n",
        "from sklearn.ensemble import RandomForestClassifier\n",
        "from sklearn.metrics import accuracy_score, classification_report, confusion_matrix\n",
        "\n",
        "# Load datasets\n",
        "enrollment_data = pd.read_csv('enrollment_data.csv')\n",
        "academic_records_data = pd.read_csv('academic_records_data.csv')\n",
        "demographic_data = pd.read_csv('demographic_data.csv')\n",
        "\n",
        "# Merge datasets based on the common 'Student_ID' column\n",
        "merged_data = pd.merge(enrollment_data, academic_records_data, on='Student_ID')\n",
        "merged_data = pd.merge(merged_data, demographic_data, on='Student_ID')\n",
        "\n",
        "# Encode categorical variables\n",
        "label_encoder = LabelEncoder()\n",
        "merged_data['Gender'] = label_encoder.fit_transform(merged_data['Gender'])\n",
        "merged_data['Ethnicity'] = label_encoder.fit_transform(merged_data['Ethnicity'])\n",
        "merged_data['Program'] = label_encoder.fit_transform(merged_data['Program'])\n",
        "\n",
        "# Features and target variable for program prediction\n",
        "X_program = merged_data.drop(['Student_ID', 'Program'], axis=1)\n",
        "y_program = merged_data['Program']\n",
        "\n",
        "# Features and target variable for support prediction\n",
        "X_support = merged_data.drop(['Student_ID', 'Support_Needed'], axis=1)\n",
        "y_support = merged_data['Support_Needed']\n",
        "\n",
        "# Split the data into training and testing sets for program prediction\n",
        "X_program_train, X_program_test, y_program_train, y_program_test = train_test_split(\n",
        "    X_program, y_program, test_size=0.2, random_state=42\n",
        ")\n",
        "\n",
        "# Split the data into training and testing sets for support prediction\n",
        "X_support_train, X_support_test, y_support_train, y_support_test = train_test_split(\n",
        "    X_support, y_support, test_size=0.2, random_state=42\n",
        ")\n",
        "\n",
        "# Train a RandomForestClassifier for program prediction\n",
        "program_model = RandomForestClassifier(random_state=42)\n",
        "program_model.fit(X_program_train, y_program_train)\n",
        "\n",
        "# Make predictions on the test set for program prediction\n",
        "y_program_pred = program_model.predict(X_program_test)\n",
        "\n",
        "# Evaluate the program prediction model\n",
        "print('Program Prediction Model:')\n",
        "print(f'Accuracy: {accuracy_score(y_program_test, y_program_pred)}')\n",
        "print('\\nClassification Report:\\n', classification_report(y_program_test, y_program_pred))\n",
        "print('\\nConfusion Matrix:\\n', confusion_matrix(y_program_test, y_program_pred))\n",
        "\n",
        "# Train a RandomForestClassifier for support prediction\n",
        "support_model = RandomForestClassifier(random_state=42)\n",
        "support_model.fit(X_support_train, y_support_train)\n",
        "\n",
        "# Make predictions on the test set for support prediction\n",
        "y_support_pred = support_model.predict(X_support_test)\n",
        "\n",
        "# Evaluate the support prediction model\n",
        "print('\\nSupport Prediction Model:')\n",
        "print(f'Accuracy: {accuracy_score(y_support_test, y_support_pred)}')\n",
        "print('\\nClassification Report:\\n', classification_report(y_support_test, y_support_pred))\n",
        "print('\\nConfusion Matrix:\\n', confusion_matrix(y_support_test, y_support_pred))\n"
      ],
      "metadata": {
        "id": "BXxi39UEC7XM"
      },
      "execution_count": null,
      "outputs": []
    }
  ]
}